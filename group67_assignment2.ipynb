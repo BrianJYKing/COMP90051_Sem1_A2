{
 "cells": [
  {
   "cell_type": "markdown",
   "id": "be58b77c",
   "metadata": {},
   "source": [
    "##### Environment setup"
   ]
  },
  {
   "cell_type": "code",
   "execution_count": 27,
   "id": "fc8002a4",
   "metadata": {},
   "outputs": [
    {
     "name": "stdout",
     "output_type": "stream",
     "text": [
      "Working directory: c:\\Users\\brian\\Documents\\UniMelb\\Year 2\\Semester 1\\COMP90051 Statistical Machine Learning\\Assignments\\Assignment 2\\COMP90051_Sem1_A2\n",
      "Files in folder: ['.git', 'domain1_train_data.json', 'domain2_train_data.json', 'group67_assignment2.ipynb', 'logreg_baseline_submission.csv', 'test_data.json']\n"
     ]
    }
   ],
   "source": [
    "# Set up environment and list data files\n",
    "import os\n",
    "import pandas as pd\n",
    "import numpy as np\n",
    "import matplotlib.pyplot as plt\n",
    "from sklearn.model_selection import train_test_split\n",
    "from sklearn.feature_extraction.text import TfidfVectorizer\n",
    "from sklearn.linear_model import LogisticRegression\n",
    "from sklearn.metrics import precision_score, recall_score, f1_score, accuracy_score, classification_report\n",
    "from sklearn.pipeline import Pipeline\n",
    "from sklearn.model_selection import cross_val_score, StratifiedKFold\n",
    "from sklearn.model_selection import GridSearchCV\n",
    "\n",
    "data_dir = r\"C:\\Users\\brian\\Documents\\UniMelb\\Year 2\\Semester 1\\COMP90051 Statistical Machine Learning\\Assignments\\Assignment 2\\COMP90051_Sem1_A2\"\n",
    "\n",
    "print(\"Working directory:\", os.getcwd())\n",
    "print(\"Files in folder:\", os.listdir())"
   ]
  },
  {
   "cell_type": "markdown",
   "id": "74773cc0",
   "metadata": {},
   "source": [
    "##### Load domain1 training data"
   ]
  },
  {
   "cell_type": "code",
   "execution_count": 28,
   "id": "f3f648bb",
   "metadata": {},
   "outputs": [
    {
     "name": "stdout",
     "output_type": "stream",
     "text": [
      "Domain1 shape: (1000, 3)\n",
      "Label distribution in domain1:\n",
      " label\n",
      "0    500\n",
      "1    500\n",
      "Name: count, dtype: int64\n"
     ]
    },
    {
     "data": {
      "text/html": [
       "<div>\n",
       "<style scoped>\n",
       "    .dataframe tbody tr th:only-of-type {\n",
       "        vertical-align: middle;\n",
       "    }\n",
       "\n",
       "    .dataframe tbody tr th {\n",
       "        vertical-align: top;\n",
       "    }\n",
       "\n",
       "    .dataframe thead th {\n",
       "        text-align: right;\n",
       "    }\n",
       "</style>\n",
       "<table border=\"1\" class=\"dataframe\">\n",
       "  <thead>\n",
       "    <tr style=\"text-align: right;\">\n",
       "      <th></th>\n",
       "      <th>text</th>\n",
       "      <th>label</th>\n",
       "      <th>id</th>\n",
       "    </tr>\n",
       "  </thead>\n",
       "  <tbody>\n",
       "    <tr>\n",
       "      <th>0</th>\n",
       "      <td>[6, 22, 34, 76, 501, 977, 1, 2514, 13623, 76, ...</td>\n",
       "      <td>0</td>\n",
       "      <td>0</td>\n",
       "    </tr>\n",
       "    <tr>\n",
       "      <th>1</th>\n",
       "      <td>[222, 31, 4108, 104, 132, 361, 39, 2305, 12, 9...</td>\n",
       "      <td>0</td>\n",
       "      <td>1</td>\n",
       "    </tr>\n",
       "    <tr>\n",
       "      <th>2</th>\n",
       "      <td>[736, 7194, 113, 12, 366, 2870, 123, 101, 12, ...</td>\n",
       "      <td>0</td>\n",
       "      <td>2</td>\n",
       "    </tr>\n",
       "    <tr>\n",
       "      <th>3</th>\n",
       "      <td>[48, 1, 2025, 69, 361, 533, 327, 237, 4150, 13...</td>\n",
       "      <td>0</td>\n",
       "      <td>3</td>\n",
       "    </tr>\n",
       "    <tr>\n",
       "      <th>4</th>\n",
       "      <td>[2973, 66, 1, 1493, 260, 2740, 50, 1027, 50, 1...</td>\n",
       "      <td>0</td>\n",
       "      <td>4</td>\n",
       "    </tr>\n",
       "  </tbody>\n",
       "</table>\n",
       "</div>"
      ],
      "text/plain": [
       "                                                text  label  id\n",
       "0  [6, 22, 34, 76, 501, 977, 1, 2514, 13623, 76, ...      0   0\n",
       "1  [222, 31, 4108, 104, 132, 361, 39, 2305, 12, 9...      0   1\n",
       "2  [736, 7194, 113, 12, 366, 2870, 123, 101, 12, ...      0   2\n",
       "3  [48, 1, 2025, 69, 361, 533, 327, 237, 4150, 13...      0   3\n",
       "4  [2973, 66, 1, 1493, 260, 2740, 50, 1027, 50, 1...      0   4"
      ]
     },
     "execution_count": 28,
     "metadata": {},
     "output_type": "execute_result"
    }
   ],
   "source": [
    "# Load domain1 JSON as newline-delimited JSON (JSON Lines)\n",
    "df1 = pd.read_json('domain1_train_data.json', lines=True)\n",
    "print(\"Domain1 shape:\", df1.shape)\n",
    "print(\"Label distribution in domain1:\\n\", df1['label'].value_counts())\n",
    "df1.head()"
   ]
  },
  {
   "cell_type": "markdown",
   "id": "f46fce9f",
   "metadata": {},
   "source": [
    "##### Load domain2 training data"
   ]
  },
  {
   "cell_type": "code",
   "execution_count": 29,
   "id": "82293e31",
   "metadata": {},
   "outputs": [
    {
     "name": "stdout",
     "output_type": "stream",
     "text": [
      "Domain2 shape: (5000, 3)\n",
      "Label distribution in domain2:\n",
      " label\n",
      "1    4750\n",
      "0     250\n",
      "Name: count, dtype: int64\n"
     ]
    },
    {
     "data": {
      "text/html": [
       "<div>\n",
       "<style scoped>\n",
       "    .dataframe tbody tr th:only-of-type {\n",
       "        vertical-align: middle;\n",
       "    }\n",
       "\n",
       "    .dataframe tbody tr th {\n",
       "        vertical-align: top;\n",
       "    }\n",
       "\n",
       "    .dataframe thead th {\n",
       "        text-align: right;\n",
       "    }\n",
       "</style>\n",
       "<table border=\"1\" class=\"dataframe\">\n",
       "  <thead>\n",
       "    <tr style=\"text-align: right;\">\n",
       "      <th></th>\n",
       "      <th>text</th>\n",
       "      <th>label</th>\n",
       "      <th>id</th>\n",
       "    </tr>\n",
       "  </thead>\n",
       "  <tbody>\n",
       "    <tr>\n",
       "      <th>0</th>\n",
       "      <td>[22, 6065, 76, 119, 13027, 575, 219, 22, 2435,...</td>\n",
       "      <td>0</td>\n",
       "      <td>0</td>\n",
       "    </tr>\n",
       "    <tr>\n",
       "      <th>1</th>\n",
       "      <td>[1275, 1509, 12, 6113, 6287, 327, 411, 1139, 2...</td>\n",
       "      <td>0</td>\n",
       "      <td>1</td>\n",
       "    </tr>\n",
       "    <tr>\n",
       "      <th>2</th>\n",
       "      <td>[575, 2962, 529, 4624, 39, 279, 1012, 277, 76,...</td>\n",
       "      <td>0</td>\n",
       "      <td>2</td>\n",
       "    </tr>\n",
       "    <tr>\n",
       "      <th>3</th>\n",
       "      <td>[12, 6113, 2428, 69, 375, 1025, 2605, 76, 101,...</td>\n",
       "      <td>0</td>\n",
       "      <td>3</td>\n",
       "    </tr>\n",
       "    <tr>\n",
       "      <th>4</th>\n",
       "      <td>[529, 76, 1509, 861, 1, 645, 1, 5013, 237, 3, ...</td>\n",
       "      <td>0</td>\n",
       "      <td>4</td>\n",
       "    </tr>\n",
       "  </tbody>\n",
       "</table>\n",
       "</div>"
      ],
      "text/plain": [
       "                                                text  label  id\n",
       "0  [22, 6065, 76, 119, 13027, 575, 219, 22, 2435,...      0   0\n",
       "1  [1275, 1509, 12, 6113, 6287, 327, 411, 1139, 2...      0   1\n",
       "2  [575, 2962, 529, 4624, 39, 279, 1012, 277, 76,...      0   2\n",
       "3  [12, 6113, 2428, 69, 375, 1025, 2605, 76, 101,...      0   3\n",
       "4  [529, 76, 1509, 861, 1, 645, 1, 5013, 237, 3, ...      0   4"
      ]
     },
     "execution_count": 29,
     "metadata": {},
     "output_type": "execute_result"
    }
   ],
   "source": [
    "# Load domain2 JSON and inspect\n",
    "df2 = pd.read_json('domain2_train_data.json', lines=True)\n",
    "print(\"Domain2 shape:\", df2.shape)\n",
    "print(\"Label distribution in domain2:\\n\", df2['label'].value_counts())\n",
    "df2.head()"
   ]
  },
  {
   "cell_type": "markdown",
   "id": "de2b0d2b",
   "metadata": {},
   "source": [
    "##### Load test set"
   ]
  },
  {
   "cell_type": "code",
   "execution_count": 30,
   "id": "5436d483",
   "metadata": {},
   "outputs": [
    {
     "name": "stdout",
     "output_type": "stream",
     "text": [
      "Test set shape: (4000, 2)\n"
     ]
    },
    {
     "data": {
      "text/html": [
       "<div>\n",
       "<style scoped>\n",
       "    .dataframe tbody tr th:only-of-type {\n",
       "        vertical-align: middle;\n",
       "    }\n",
       "\n",
       "    .dataframe tbody tr th {\n",
       "        vertical-align: top;\n",
       "    }\n",
       "\n",
       "    .dataframe thead th {\n",
       "        text-align: right;\n",
       "    }\n",
       "</style>\n",
       "<table border=\"1\" class=\"dataframe\">\n",
       "  <thead>\n",
       "    <tr style=\"text-align: right;\">\n",
       "      <th></th>\n",
       "      <th>text</th>\n",
       "      <th>id</th>\n",
       "    </tr>\n",
       "  </thead>\n",
       "  <tbody>\n",
       "    <tr>\n",
       "      <th>0</th>\n",
       "      <td>[9159, 3048, 238, 276, 162, 286, 305, 22, 36, ...</td>\n",
       "      <td>0</td>\n",
       "    </tr>\n",
       "    <tr>\n",
       "      <th>1</th>\n",
       "      <td>[64, 5039, 1275, 6, 0, 871, 139, 270, 327, 237...</td>\n",
       "      <td>1</td>\n",
       "    </tr>\n",
       "    <tr>\n",
       "      <th>2</th>\n",
       "      <td>[327, 618, 76, 650, 121, 274, 1025, 0, 12207, ...</td>\n",
       "      <td>2</td>\n",
       "    </tr>\n",
       "    <tr>\n",
       "      <th>3</th>\n",
       "      <td>[6, 12, 609, 11905, 4, 879, 677, 78, 13352, 60...</td>\n",
       "      <td>3</td>\n",
       "    </tr>\n",
       "    <tr>\n",
       "      <th>4</th>\n",
       "      <td>[1, 5504, 55, 22, 101, 3783, 139, 2664, 4, 1, ...</td>\n",
       "      <td>4</td>\n",
       "    </tr>\n",
       "  </tbody>\n",
       "</table>\n",
       "</div>"
      ],
      "text/plain": [
       "                                                text  id\n",
       "0  [9159, 3048, 238, 276, 162, 286, 305, 22, 36, ...   0\n",
       "1  [64, 5039, 1275, 6, 0, 871, 139, 270, 327, 237...   1\n",
       "2  [327, 618, 76, 650, 121, 274, 1025, 0, 12207, ...   2\n",
       "3  [6, 12, 609, 11905, 4, 879, 677, 78, 13352, 60...   3\n",
       "4  [1, 5504, 55, 22, 101, 3783, 139, 2664, 4, 1, ...   4"
      ]
     },
     "execution_count": 30,
     "metadata": {},
     "output_type": "execute_result"
    }
   ],
   "source": [
    "# Load test JSON into a DataFrame and inspect\n",
    "df_test = pd.read_json('test_data.json', lines=True)\n",
    "print(\"Test set shape:\", df_test.shape)\n",
    "df_test.head()"
   ]
  },
  {
   "cell_type": "markdown",
   "id": "9851ef8f",
   "metadata": {},
   "source": [
    "##### Combine domains"
   ]
  },
  {
   "cell_type": "code",
   "execution_count": 31,
   "id": "ce8ca108",
   "metadata": {},
   "outputs": [
    {
     "name": "stdout",
     "output_type": "stream",
     "text": [
      "Combined train shape: (6000, 4)\n",
      "\n",
      "Overall label distribution:\n",
      " label\n",
      "1    5250\n",
      "0     750\n",
      "Name: count, dtype: int64\n",
      "\n",
      "Domain breakdown:\n",
      " domain\n",
      "domain2    5000\n",
      "domain1    1000\n",
      "Name: count, dtype: int64\n"
     ]
    },
    {
     "data": {
      "text/html": [
       "<div>\n",
       "<style scoped>\n",
       "    .dataframe tbody tr th:only-of-type {\n",
       "        vertical-align: middle;\n",
       "    }\n",
       "\n",
       "    .dataframe tbody tr th {\n",
       "        vertical-align: top;\n",
       "    }\n",
       "\n",
       "    .dataframe thead th {\n",
       "        text-align: right;\n",
       "    }\n",
       "</style>\n",
       "<table border=\"1\" class=\"dataframe\">\n",
       "  <thead>\n",
       "    <tr style=\"text-align: right;\">\n",
       "      <th></th>\n",
       "      <th>text</th>\n",
       "      <th>label</th>\n",
       "      <th>id</th>\n",
       "      <th>domain</th>\n",
       "    </tr>\n",
       "  </thead>\n",
       "  <tbody>\n",
       "    <tr>\n",
       "      <th>973</th>\n",
       "      <td>[324, 151, 12, 316, 379, 4, 158, 199, 1587, 32...</td>\n",
       "      <td>1</td>\n",
       "      <td>973</td>\n",
       "      <td>domain1</td>\n",
       "    </tr>\n",
       "    <tr>\n",
       "      <th>1918</th>\n",
       "      <td>[139, 14221, 1, 47, 269, 1035, 1573, 66, 1, 11...</td>\n",
       "      <td>1</td>\n",
       "      <td>918</td>\n",
       "      <td>domain2</td>\n",
       "    </tr>\n",
       "    <tr>\n",
       "      <th>3367</th>\n",
       "      <td>[199, 22, 2416, 4754, 66, 12, 4160, 76, 205, 4...</td>\n",
       "      <td>1</td>\n",
       "      <td>2367</td>\n",
       "      <td>domain2</td>\n",
       "    </tr>\n",
       "    <tr>\n",
       "      <th>976</th>\n",
       "      <td>[324, 151, 285, 241, 22, 36, 1156, 4, 440, 208...</td>\n",
       "      <td>1</td>\n",
       "      <td>976</td>\n",
       "      <td>domain1</td>\n",
       "    </tr>\n",
       "    <tr>\n",
       "      <th>614</th>\n",
       "      <td>[199, 12, 2356, 323, 55, 238, 1218, 697, 4, 23...</td>\n",
       "      <td>1</td>\n",
       "      <td>614</td>\n",
       "      <td>domain1</td>\n",
       "    </tr>\n",
       "  </tbody>\n",
       "</table>\n",
       "</div>"
      ],
      "text/plain": [
       "                                                   text  label    id   domain\n",
       "973   [324, 151, 12, 316, 379, 4, 158, 199, 1587, 32...      1   973  domain1\n",
       "1918  [139, 14221, 1, 47, 269, 1035, 1573, 66, 1, 11...      1   918  domain2\n",
       "3367  [199, 22, 2416, 4754, 66, 12, 4160, 76, 205, 4...      1  2367  domain2\n",
       "976   [324, 151, 285, 241, 22, 36, 1156, 4, 440, 208...      1   976  domain1\n",
       "614   [199, 12, 2356, 323, 55, 238, 1218, 697, 4, 23...      1   614  domain1"
      ]
     },
     "execution_count": 31,
     "metadata": {},
     "output_type": "execute_result"
    }
   ],
   "source": [
    "# Combine domain1 and domain2 into a single training DataFrame and inspect\n",
    "train = pd.concat([\n",
    "    df1.assign(domain='domain1'),\n",
    "    df2.assign(domain='domain2')\n",
    "], ignore_index=True)\n",
    "\n",
    "print(\"Combined train shape:\", train.shape)\n",
    "print(\"\\nOverall label distribution:\\n\", train['label'].value_counts())\n",
    "print(\"\\nDomain breakdown:\\n\", train['domain'].value_counts())\n",
    "train.sample(5)"
   ]
  },
  {
   "cell_type": "markdown",
   "id": "0e52376d",
   "metadata": {},
   "source": [
    "##### EDA"
   ]
  },
  {
   "cell_type": "code",
   "execution_count": 32,
   "id": "1f825160",
   "metadata": {},
   "outputs": [
    {
     "name": "stdout",
     "output_type": "stream",
     "text": [
      "Length stats:\n",
      " count    6000.000000\n",
      "mean       80.330167\n",
      "std         2.668522\n",
      "min        55.000000\n",
      "25%        80.000000\n",
      "50%        80.000000\n",
      "75%        81.000000\n",
      "max       123.000000\n",
      "Name: length, dtype: float64\n"
     ]
    },
    {
     "data": {
      "image/png": "[encoded data removed]",
      "text/plain": [
       "<Figure size 800x400 with 1 Axes>"
      ]
     },
     "metadata": {},
     "output_type": "display_data"
    }
   ],
   "source": [
    "# EDA\n",
    "%matplotlib inline\n",
    "\n",
    "# add a length column\n",
    "train['length'] = train['text'].apply(len)\n",
    "\n",
    "# summary statistics\n",
    "print(\"Length stats:\\n\", train['length'].describe())\n",
    "\n",
    "# histogram\n",
    "plt.figure(figsize=(8, 4))\n",
    "plt.hist(train['length'], bins=50)\n",
    "plt.xlabel('Sequence length (tokens)')\n",
    "plt.ylabel('Count')\n",
    "plt.title('Training Data Sequence Length Distribution')\n",
    "plt.show()\n"
   ]
  },
  {
   "cell_type": "markdown",
   "id": "e6c9e79d",
   "metadata": {},
   "source": [
    "### Method 1: Bag-of-Words + TF–IDF Baseline with Class-Weighted Logistic Regression"
   ]
  },
  {
   "cell_type": "markdown",
   "id": "5a56f1e9",
   "metadata": {},
   "source": [
    "##### Prepare text strings for TF-IDF input"
   ]
  },
  {
   "cell_type": "code",
   "execution_count": 33,
   "id": "e4ea411b",
   "metadata": {},
   "outputs": [
    {
     "data": {
      "text/html": [
       "<div>\n",
       "<style scoped>\n",
       "    .dataframe tbody tr th:only-of-type {\n",
       "        vertical-align: middle;\n",
       "    }\n",
       "\n",
       "    .dataframe tbody tr th {\n",
       "        vertical-align: top;\n",
       "    }\n",
       "\n",
       "    .dataframe thead th {\n",
       "        text-align: right;\n",
       "    }\n",
       "</style>\n",
       "<table border=\"1\" class=\"dataframe\">\n",
       "  <thead>\n",
       "    <tr style=\"text-align: right;\">\n",
       "      <th></th>\n",
       "      <th>id</th>\n",
       "      <th>label</th>\n",
       "      <th>domain</th>\n",
       "      <th>text_str</th>\n",
       "    </tr>\n",
       "  </thead>\n",
       "  <tbody>\n",
       "    <tr>\n",
       "      <th>0</th>\n",
       "      <td>0</td>\n",
       "      <td>0</td>\n",
       "      <td>domain1</td>\n",
       "      <td>6 22 34 76 501 977 1 2514 13623 76 31 2085 277...</td>\n",
       "    </tr>\n",
       "    <tr>\n",
       "      <th>1</th>\n",
       "      <td>1</td>\n",
       "      <td>0</td>\n",
       "      <td>domain1</td>\n",
       "      <td>222 31 4108 104 132 361 39 2305 12 936 1287 66...</td>\n",
       "    </tr>\n",
       "    <tr>\n",
       "      <th>2</th>\n",
       "      <td>2</td>\n",
       "      <td>0</td>\n",
       "      <td>domain1</td>\n",
       "      <td>736 7194 113 12 366 2870 123 101 12 230 403 51...</td>\n",
       "    </tr>\n",
       "    <tr>\n",
       "      <th>3</th>\n",
       "      <td>3</td>\n",
       "      <td>0</td>\n",
       "      <td>domain1</td>\n",
       "      <td>48 1 2025 69 361 533 327 237 4150 13 22 2128 1...</td>\n",
       "    </tr>\n",
       "    <tr>\n",
       "      <th>4</th>\n",
       "      <td>4</td>\n",
       "      <td>0</td>\n",
       "      <td>domain1</td>\n",
       "      <td>2973 66 1 1493 260 2740 50 1027 50 1 3289 69 5...</td>\n",
       "    </tr>\n",
       "  </tbody>\n",
       "</table>\n",
       "</div>"
      ],
      "text/plain": [
       "   id  label   domain                                           text_str\n",
       "0   0      0  domain1  6 22 34 76 501 977 1 2514 13623 76 31 2085 277...\n",
       "1   1      0  domain1  222 31 4108 104 132 361 39 2305 12 936 1287 66...\n",
       "2   2      0  domain1  736 7194 113 12 366 2870 123 101 12 230 403 51...\n",
       "3   3      0  domain1  48 1 2025 69 361 533 327 237 4150 13 22 2128 1...\n",
       "4   4      0  domain1  2973 66 1 1493 260 2740 50 1027 50 1 3289 69 5..."
      ]
     },
     "execution_count": 33,
     "metadata": {},
     "output_type": "execute_result"
    }
   ],
   "source": [
    "# Convert token sequences into strings\n",
    "train['text_str'] = train['text'].apply(lambda seq: ' '.join(map(str, seq)))\n",
    "df_test['text_str'] = df_test['text'].apply(lambda seq: ' '.join(map(str, seq)))\n",
    "\n",
    "train[['id', 'label', 'domain', 'text_str']].head() # inspect examples"
   ]
  },
  {
   "cell_type": "markdown",
   "id": "ff8b0124",
   "metadata": {},
   "source": [
    "##### Split dataframe and vectorize with TF–IDF"
   ]
  },
  {
   "cell_type": "code",
   "execution_count": 34,
   "id": "0bf45aea",
   "metadata": {},
   "outputs": [
    {
     "name": "stdout",
     "output_type": "stream",
     "text": [
      "TF-IDF shapes:\n",
      "  X_train_tf: (4800, 15633)\n",
      "  X_val_tf:   (1200, 15633)\n",
      "  X_test_tf:  (4000, 15633)\n"
     ]
    }
   ],
   "source": [
    "# Split the combined DataFrame into df_train and df_val\n",
    "df_train, df_val = train_test_split(\n",
    "    train,\n",
    "    test_size=0.2,\n",
    "    stratify=train['label'],\n",
    "    random_state=42\n",
    ")\n",
    "\n",
    "# Extract labels\n",
    "y_train = df_train['label'].values\n",
    "y_val   = df_val['label'].values\n",
    "\n",
    "# Fit TF-IDF on the training text_str\n",
    "vectorizer = TfidfVectorizer(max_features=20000)\n",
    "X_train_tf = vectorizer.fit_transform(df_train['text_str'])\n",
    "X_val_tf   = vectorizer.transform(df_val['text_str'])\n",
    "X_test_tf  = vectorizer.transform(df_test['text_str'])\n",
    "\n",
    "print(\"TF-IDF shapes:\")\n",
    "print(\"  X_train_tf:\", X_train_tf.shape)\n",
    "print(\"  X_val_tf:  \", X_val_tf.shape)\n",
    "print(\"  X_test_tf: \", X_test_tf.shape)\n"
   ]
  },
  {
   "cell_type": "markdown",
   "id": "fb7a0600",
   "metadata": {},
   "source": [
    "##### Evaluate log-regression baseline"
   ]
  },
  {
   "cell_type": "code",
   "execution_count": 35,
   "id": "19f01aee",
   "metadata": {},
   "outputs": [
    {
     "name": "stdout",
     "output_type": "stream",
     "text": [
      "Validation Accuracy: 0.9258\n",
      "\n",
      "Classification Report:\n",
      "              precision    recall  f1-score   support\n",
      "\n",
      "           0     0.6580    0.8467    0.7405       150\n",
      "           1     0.9772    0.9371    0.9567      1050\n",
      "\n",
      "    accuracy                         0.9258      1200\n",
      "   macro avg     0.8176    0.8919    0.8486      1200\n",
      "weighted avg     0.9373    0.9258    0.9297      1200\n",
      "\n"
     ]
    }
   ],
   "source": [
    "# Train and evaluate a class-weighted Logistic Regression baseline\n",
    "clf = LogisticRegression(class_weight='balanced', max_iter=1000, random_state=42)\n",
    "\n",
    "# Fit on training TF-IDF features\n",
    "clf.fit(X_train_tf, y_train)\n",
    "\n",
    "# Predict on validation set\n",
    "y_pred = clf.predict(X_val_tf)\n",
    "\n",
    "# Evaluate\n",
    "acc = accuracy_score(y_val, y_pred)\n",
    "print(f\"Validation Accuracy: {acc:.4f}\\n\")\n",
    "print(\"Classification Report:\")\n",
    "print(classification_report(y_val, y_pred, digits=4))\n"
   ]
  },
  {
   "cell_type": "markdown",
   "id": "57fc9363",
   "metadata": {},
   "source": [
    "##### 5-Fold cross-validation of TF–IDF + logistic regression baseline"
   ]
  },
  {
   "cell_type": "code",
   "execution_count": 36,
   "id": "d29ce387",
   "metadata": {},
   "outputs": [
    {
     "name": "stdout",
     "output_type": "stream",
     "text": [
      "CV accuracies per fold: [0.90583333 0.925      0.92       0.91333333 0.92916667]\n",
      "Mean CV accuracy: 0.9187 ± 0.0083\n"
     ]
    }
   ],
   "source": [
    "pipeline = Pipeline([\n",
    "    ('tfidf', TfidfVectorizer(max_features=20000)),\n",
    "    ('clf',  LogisticRegression(class_weight='balanced', max_iter=1000, random_state=42))\n",
    "])\n",
    "\n",
    "# Stratified 5-fold CV\n",
    "cv = StratifiedKFold(n_splits=5, shuffle=True, random_state=42)\n",
    "scores = cross_val_score(\n",
    "    pipeline,\n",
    "    train['text_str'],\n",
    "    train['label'],\n",
    "    cv=cv,\n",
    "    scoring='accuracy',\n",
    "    n_jobs=-1\n",
    ")\n",
    "\n",
    "print(\"CV accuracies per fold:\", scores)\n",
    "print(f\"Mean CV accuracy: {scores.mean():.4f} ± {scores.std():.4f}\")"
   ]
  },
  {
   "cell_type": "markdown",
   "id": "9193ec69",
   "metadata": {},
   "source": [
    "##### Hyperparameter Tuning: GridSearchCV on TF–IDF + LR"
   ]
  },
  {
   "cell_type": "code",
   "execution_count": 37,
   "id": "331c3be0",
   "metadata": {},
   "outputs": [
    {
     "name": "stdout",
     "output_type": "stream",
     "text": [
      "Fitting 5 folds for each of 8 candidates, totalling 40 fits\n",
      "Best CV Accuracy: 0.9413\n",
      "Best Parameters: {'clf__C': 10, 'tfidf__ngram_range': (1, 2)}\n"
     ]
    }
   ],
   "source": [
    "param_grid = {\n",
    "    'tfidf__ngram_range': [(1, 1), (1, 2)],\n",
    "    'clf__C': [0.01, 0.1, 1, 10]\n",
    "}\n",
    "\n",
    "grid_search = GridSearchCV(\n",
    "    estimator=pipeline,\n",
    "    param_grid=param_grid,\n",
    "    cv=cv,\n",
    "    scoring='accuracy',\n",
    "    n_jobs=-1,\n",
    "    verbose=1\n",
    ")\n",
    "\n",
    "grid_search.fit(train['text_str'], train['label'])\n",
    "\n",
    "print(\"Best CV Accuracy: {:.4f}\".format(grid_search.best_score_))\n",
    "print(\"Best Parameters:\", grid_search.best_params_)"
   ]
  },
  {
   "cell_type": "markdown",
   "id": "5624d590",
   "metadata": {},
   "source": [
    "##### Re-evaluate model after hyperparameter tuning"
   ]
  },
  {
   "cell_type": "code",
   "execution_count": 38,
   "id": "ee79238b",
   "metadata": {},
   "outputs": [
    {
     "name": "stdout",
     "output_type": "stream",
     "text": [
      "Hold-out Validation Accuracy: 0.97\n",
      "              precision    recall  f1-score   support\n",
      "\n",
      "           0     0.8065    1.0000    0.8929       150\n",
      "           1     1.0000    0.9657    0.9826      1050\n",
      "\n",
      "    accuracy                         0.9700      1200\n",
      "   macro avg     0.9032    0.9829    0.9377      1200\n",
      "weighted avg     0.9758    0.9700    0.9713      1200\n",
      "\n"
     ]
    }
   ],
   "source": [
    "# Evaluate tuned model on hold-out validation set\n",
    "best_pipe = grid_search.best_estimator_\n",
    "X_val_tuned = best_pipe.named_steps['tfidf'].transform(df_val['text_str'])\n",
    "y_val_pred = best_pipe.named_steps['clf'].predict(X_val_tuned)\n",
    "\n",
    "print(\"Hold-out Validation Accuracy:\", accuracy_score(y_val, y_val_pred))\n",
    "print(classification_report(y_val, y_val_pred, digits=4))\n"
   ]
  },
  {
   "cell_type": "markdown",
   "id": "aea7c3ba",
   "metadata": {},
   "source": [
    "##### Threshold tuning for tuned TF–IDF + Logistic Regression"
   ]
  },
  {
   "cell_type": "code",
   "execution_count": 39,
   "id": "bcd98126",
   "metadata": {},
   "outputs": [
    {
     "name": "stdout",
     "output_type": "stream",
     "text": [
      "Threshold | Precision (human) | Recall (human) | F1 (human)\n",
      "  0.10    |   0.5515         |   1.0000     |  0.7109\n",
      "  0.15    |   0.6726         |   1.0000     |  0.8043\n",
      "  0.20    |   0.7317         |   1.0000     |  0.8451\n",
      "  0.25    |   0.7772         |   1.0000     |  0.8746\n",
      "  0.30    |   0.7937         |   1.0000     |  0.8850\n",
      "  0.35    |   0.7979         |   1.0000     |  0.8876\n",
      "  0.40    |   0.7979         |   1.0000     |  0.8876\n",
      "  0.45    |   0.8021         |   1.0000     |  0.8902\n",
      "  0.50    |   0.8065         |   1.0000     |  0.8929\n",
      "  0.55    |   0.8065         |   1.0000     |  0.8929\n",
      "  0.60    |   0.8287         |   1.0000     |  0.9063\n",
      "  0.65    |   0.8324         |   0.9933     |  0.9058\n",
      "  0.70    |   0.9800         |   0.9800     |  0.9800\n",
      "  0.75    |   0.9862         |   0.9533     |  0.9695\n",
      "  0.80    |   1.0000         |   0.9333     |  0.9655\n",
      "  0.85    |   1.0000         |   0.9000     |  0.9474\n",
      "  0.90    |   1.0000         |   0.8200     |  0.9011\n"
     ]
    }
   ],
   "source": [
    "best_pipe = grid_search.best_estimator_\n",
    "\n",
    "prob_human = best_pipe.predict_proba(df_val['text_str'])[:, 0]\n",
    "\n",
    "thresholds = np.linspace(0.1, 0.9, 17)\n",
    "print(\"Threshold | Precision (human) | Recall (human) | F1 (human)\")\n",
    "for t in thresholds:\n",
    "    preds = np.where(prob_human >= t, 0, 1)\n",
    "    prec = precision_score(y_val, preds, pos_label=0)\n",
    "    rec  = recall_score(y_val, preds, pos_label=0)\n",
    "    f1   = f1_score(y_val, preds, pos_label=0)\n",
    "    print(f\"  {t:.2f}    |   {prec:.4f}         |   {rec:.4f}     |  {f1:.4f}\")"
   ]
  },
  {
   "cell_type": "code",
   "execution_count": 40,
   "id": "17a2c174",
   "metadata": {},
   "outputs": [
    {
     "name": "stdout",
     "output_type": "stream",
     "text": [
      "Validation Accuracy (threshold = 0.70): 0.9608\n",
      "\n",
      "Classification Report:\n",
      "              precision    recall  f1-score   support\n",
      "\n",
      "           0     0.9640    0.7133    0.8199       150\n",
      "           1     0.9605    0.9962    0.9780      1050\n",
      "\n",
      "    accuracy                         0.9608      1200\n",
      "   macro avg     0.9622    0.8548    0.8990      1200\n",
      "weighted avg     0.9609    0.9608    0.9583      1200\n",
      "\n"
     ]
    }
   ],
   "source": [
    "best_ngram = (1, 2)\n",
    "best_C     = 10\n",
    "\n",
    "pipeline_tuned = Pipeline([\n",
    "    ('tfidf', TfidfVectorizer(max_features=20000, ngram_range=best_ngram)),\n",
    "    ('clf',  LogisticRegression(class_weight='balanced', C=best_C, max_iter=1000, random_state=42))\n",
    "])\n",
    "\n",
    "pipeline_tuned.fit(df_train['text_str'], df_train['label'])\n",
    "\n",
    "prob_human = pipeline_tuned.predict_proba(df_val['text_str'])[:, 0]\n",
    "\n",
    "threshold = 0.70\n",
    "preds_val = np.where(prob_human >= threshold, 0, 1)\n",
    "\n",
    "# Evaluate\n",
    "print(f\"Validation Accuracy (threshold = {threshold:.2f}): {accuracy_score(y_val, preds_val):.4f}\\n\")\n",
    "print(\"Classification Report:\")\n",
    "print(classification_report(y_val, preds_val, digits=4))"
   ]
  },
  {
   "cell_type": "markdown",
   "id": "ab3d79fa",
   "metadata": {},
   "source": [
    "##### SMOTE on Domain 2’s Human Class"
   ]
  },
  {
   "cell_type": "code",
   "execution_count": 41,
   "id": "1cd8fd88",
   "metadata": {},
   "outputs": [],
   "source": [
    "from scipy.sparse import vstack, csr_matrix\n",
    "from imblearn.over_sampling import SMOTE"
   ]
  },
  {
   "cell_type": "code",
   "execution_count": 42,
   "id": "8769b736",
   "metadata": {},
   "outputs": [
    {
     "name": "stdout",
     "output_type": "stream",
     "text": [
      "SMOTE (Domain2 Human) Validation Accuracy: 0.9308333333333333\n",
      "\n",
      "Classification Report:\n",
      "              precision    recall  f1-score   support\n",
      "\n",
      "           0     1.0000    0.4467    0.6175       150\n",
      "           1     0.9267    1.0000    0.9620      1050\n",
      "\n",
      "    accuracy                         0.9308      1200\n",
      "   macro avg     0.9634    0.7233    0.7897      1200\n",
      "weighted avg     0.9359    0.9308    0.9189      1200\n",
      "\n"
     ]
    }
   ],
   "source": [
    "# Extract TF–IDF vectorizer and optimal C from the tuned pipeline\n",
    "vectorizer = best_pipe.named_steps['tfidf']\n",
    "C_opt      = best_pipe.named_steps['clf'].C\n",
    "\n",
    "# Transform train/validation into feature matrices\n",
    "X_train_all = vectorizer.transform(df_train['text_str'])\n",
    "X_val_tf    = vectorizer.transform(df_val['text_str'])\n",
    "y_train_all = df_train['label'].values\n",
    "\n",
    "# Select Domain 2 subset\n",
    "mask_dom2 = df_train['domain'] == 'domain2'\n",
    "X_dom2    = X_train_all[mask_dom2].toarray()\n",
    "y_dom2    = y_train_all[mask_dom2]\n",
    "\n",
    "# Apply SMOTE on Domain 2 human class (label 0)\n",
    "smote = SMOTE(random_state=42)\n",
    "X_dom2_res, y_dom2_res = smote.fit_resample(X_dom2, y_dom2)\n",
    "\n",
    "# Re-combine with Domain 1 unchanged\n",
    "mask_dom1    = ~mask_dom2\n",
    "X_dom1       = X_train_all[mask_dom1]\n",
    "y_dom1       = y_train_all[mask_dom1]\n",
    "X_dom2_res_sp = csr_matrix(X_dom2_res)\n",
    "\n",
    "X_res = vstack([X_dom1, X_dom2_res_sp])\n",
    "y_res = np.concatenate([y_dom1, y_dom2_res])\n",
    "\n",
    "# Retrain Logistic Regression on SMOTE-augmented data\n",
    "clf_smote = LogisticRegression(class_weight='balanced',\n",
    "                               C=C_opt,\n",
    "                               max_iter=1000,\n",
    "                               random_state=42)\n",
    "clf_smote.fit(X_res, y_res)\n",
    "\n",
    "# Predict on validation using threshold = 0.70\n",
    "prob_hum_smote = clf_smote.predict_proba(X_val_tf)[:, 0]\n",
    "preds_smote    = np.where(prob_hum_smote >= 0.70, 0, 1)\n",
    "\n",
    "# Evaluate\n",
    "print(\"SMOTE (Domain2 Human) Validation Accuracy:\", accuracy_score(y_val, preds_smote))\n",
    "print(\"\\nClassification Report:\")\n",
    "print(classification_report(y_val, preds_smote, digits=4))"
   ]
  },
  {
   "cell_type": "markdown",
   "id": "92695b8b",
   "metadata": {},
   "source": [
    "##### Threshold tuning"
   ]
  },
  {
   "cell_type": "code",
   "execution_count": 43,
   "id": "745d220b",
   "metadata": {},
   "outputs": [
    {
     "name": "stdout",
     "output_type": "stream",
     "text": [
      "Threshold | Precision(0) | Recall(0) | F1(0)\n",
      "  0.10    |  0.5771   |   0.9733  |  0.7246\n",
      "  0.15    |  0.6425   |   0.9467  |  0.7655\n",
      "  0.20    |  0.6935   |   0.9200  |  0.7908\n",
      "  0.25    |  0.7377   |   0.9000  |  0.8108\n",
      "  0.30    |  0.7616   |   0.8733  |  0.8137\n",
      "  0.35    |  0.9394   |   0.8267  |  0.8794\n",
      "  0.40    |  0.9417   |   0.7533  |  0.8370\n",
      "  0.45    |  0.9722   |   0.7000  |  0.8140\n",
      "  0.50    |  0.9898   |   0.6467  |  0.7823\n",
      "  0.55    |  0.9889   |   0.5933  |  0.7417\n",
      "  0.60    |  1.0000   |   0.5533  |  0.7124\n",
      "  0.65    |  1.0000   |   0.5000  |  0.6667\n",
      "  0.70    |  1.0000   |   0.4467  |  0.6175\n",
      "  0.75    |  1.0000   |   0.3933  |  0.5646\n",
      "  0.80    |  1.0000   |   0.3467  |  0.5149\n",
      "  0.85    |  1.0000   |   0.3267  |  0.4925\n",
      "  0.90    |  1.0000   |   0.3000  |  0.4615\n"
     ]
    }
   ],
   "source": [
    "X_val_tf = vectorizer.transform(df_val['text_str'])\n",
    "\n",
    "# Get human-written probabilities from your SMOTE-trained classifier\n",
    "prob_human_smote = clf_smote.predict_proba(X_val_tf)[:, 0]\n",
    "\n",
    "# Sweep thresholds and report metrics for the human class\n",
    "thresholds = np.linspace(0.1, 0.9, 17)\n",
    "print(\"Threshold | Precision(0) | Recall(0) | F1(0)\")\n",
    "for t in thresholds:\n",
    "    preds = np.where(prob_human_smote >= t, 0, 1)\n",
    "    prec  = precision_score(y_val, preds, pos_label=0)\n",
    "    rec   = recall_score(y_val, preds, pos_label=0)\n",
    "    f1    = f1_score(y_val, preds, pos_label=0)\n",
    "    print(f\"  {t:.2f}    |  {prec:.4f}   |   {rec:.4f}  |  {f1:.4f}\")"
   ]
  },
  {
   "cell_type": "code",
   "execution_count": 44,
   "id": "b0fe1e9a",
   "metadata": {},
   "outputs": [
    {
     "name": "stdout",
     "output_type": "stream",
     "text": [
      "SMOTE Model Accuracy (threshold = 0.35): 0.9716666666666667\n",
      "\n",
      "Classification Report:\n",
      "              precision    recall  f1-score   support\n",
      "\n",
      "           0     0.9394    0.8267    0.8794       150\n",
      "           1     0.9757    0.9924    0.9839      1050\n",
      "\n",
      "    accuracy                         0.9717      1200\n",
      "   macro avg     0.9575    0.9095    0.9317      1200\n",
      "weighted avg     0.9711    0.9717    0.9709      1200\n",
      "\n"
     ]
    }
   ],
   "source": [
    "threshold = 0.35\n",
    "preds = np.where(prob_human_smote >= threshold, 0, 1)\n",
    "\n",
    "print(f\"SMOTE Model Accuracy (threshold = {threshold:.2f}):\",\n",
    "      accuracy_score(y_val, preds))\n",
    "print(\"\\nClassification Report:\")\n",
    "print(classification_report(y_val, preds, digits=4))"
   ]
  },
  {
   "cell_type": "code",
   "execution_count": null,
   "id": "7f7aac21",
   "metadata": {},
   "outputs": [],
   "source": [
    "submission_smote = pd.DataFrame({\n",
    "    'id': df_test['id'], \n",
    "    'class': preds_test\n",
    "    })\n",
    "submission_smote.to_csv('smote_submission.csv', index=False)\n",
    "\n",
    "# 7. Preview the first few rows\n",
    "submission_smote.head()"
   ]
  }
 ],
 "metadata": {
  "kernelspec": {
   "display_name": "base",
   "language": "python",
   "name": "python3"
  },
  "language_info": {
   "codemirror_mode": {
    "name": "ipython",
    "version": 3
   },
   "file_extension": ".py",
   "mimetype": "text/x-python",
   "name": "python",
   "nbconvert_exporter": "python",
   "pygments_lexer": "ipython3",
   "version": "3.12.7"
  }
 },
 "nbformat": 4,
 "nbformat_minor": 5
}
