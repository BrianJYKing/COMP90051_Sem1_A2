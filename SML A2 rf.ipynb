{
 "cells": [
  {
   "cell_type": "code",
   "execution_count": 7,
   "id": "71f57c01",
   "metadata": {},
   "outputs": [],
   "source": [
    "import json\n",
    "import numpy as np\n",
    "import joblib\n",
    "import pandas as pd\n",
    "from sklearn.feature_extraction.text import CountVectorizer\n",
    "from sklearn.model_selection import train_test_split\n",
    "from sklearn.model_selection import RandomizedSearchCV\n",
    "from sklearn.ensemble import RandomForestClassifier \n",
    "from sklearn.metrics import classification_report\n",
    "from sklearn.metrics import accuracy_score\n",
    "from imblearn.over_sampling import SMOTE\n",
    "from sklearn.model_selection import GridSearchCV"
   ]
  },
  {
   "cell_type": "markdown",
   "id": "d69bb237",
   "metadata": {},
   "source": [
    "## Load domain 1 data"
   ]
  },
  {
   "cell_type": "code",
   "execution_count": 8,
   "id": "c4e73b56",
   "metadata": {},
   "outputs": [
    {
     "name": "stdout",
     "output_type": "stream",
     "text": [
      "domain 1 shappe: (1000, 3)\n"
     ]
    },
    {
     "data": {
      "text/html": [
       "<div>\n",
       "<style scoped>\n",
       "    .dataframe tbody tr th:only-of-type {\n",
       "        vertical-align: middle;\n",
       "    }\n",
       "\n",
       "    .dataframe tbody tr th {\n",
       "        vertical-align: top;\n",
       "    }\n",
       "\n",
       "    .dataframe thead th {\n",
       "        text-align: right;\n",
       "    }\n",
       "</style>\n",
       "<table border=\"1\" class=\"dataframe\">\n",
       "  <thead>\n",
       "    <tr style=\"text-align: right;\">\n",
       "      <th></th>\n",
       "      <th>text</th>\n",
       "      <th>label</th>\n",
       "      <th>id</th>\n",
       "    </tr>\n",
       "  </thead>\n",
       "  <tbody>\n",
       "    <tr>\n",
       "      <th>0</th>\n",
       "      <td>[6, 22, 34, 76, 501, 977, 1, 2514, 13623, 76, ...</td>\n",
       "      <td>0</td>\n",
       "      <td>0</td>\n",
       "    </tr>\n",
       "    <tr>\n",
       "      <th>1</th>\n",
       "      <td>[222, 31, 4108, 104, 132, 361, 39, 2305, 12, 9...</td>\n",
       "      <td>0</td>\n",
       "      <td>1</td>\n",
       "    </tr>\n",
       "    <tr>\n",
       "      <th>2</th>\n",
       "      <td>[736, 7194, 113, 12, 366, 2870, 123, 101, 12, ...</td>\n",
       "      <td>0</td>\n",
       "      <td>2</td>\n",
       "    </tr>\n",
       "    <tr>\n",
       "      <th>3</th>\n",
       "      <td>[48, 1, 2025, 69, 361, 533, 327, 237, 4150, 13...</td>\n",
       "      <td>0</td>\n",
       "      <td>3</td>\n",
       "    </tr>\n",
       "    <tr>\n",
       "      <th>4</th>\n",
       "      <td>[2973, 66, 1, 1493, 260, 2740, 50, 1027, 50, 1...</td>\n",
       "      <td>0</td>\n",
       "      <td>4</td>\n",
       "    </tr>\n",
       "  </tbody>\n",
       "</table>\n",
       "</div>"
      ],
      "text/plain": [
       "                                                text  label  id\n",
       "0  [6, 22, 34, 76, 501, 977, 1, 2514, 13623, 76, ...      0   0\n",
       "1  [222, 31, 4108, 104, 132, 361, 39, 2305, 12, 9...      0   1\n",
       "2  [736, 7194, 113, 12, 366, 2870, 123, 101, 12, ...      0   2\n",
       "3  [48, 1, 2025, 69, 361, 533, 327, 237, 4150, 13...      0   3\n",
       "4  [2973, 66, 1, 1493, 260, 2740, 50, 1027, 50, 1...      0   4"
      ]
     },
     "execution_count": 8,
     "metadata": {},
     "output_type": "execute_result"
    }
   ],
   "source": [
    "# read the json file for domain 1\n",
    "d1_data = []\n",
    "with open('/Users/zigeliang/Desktop/All/Data Science 2025S1/COMP90051/A2/comp-90051-2025-s-1-project-2/domain1_train_data.json', 'r') as f:\n",
    "    for line in f:\n",
    "        d1_data.append(json.loads(line))\n",
    "# convert the data to datareame and show the first 5 records\n",
    "d1_df = pd.DataFrame(d1_data)\n",
    "print(f\"domain 1 shappe: {d1_df.shape}\")\n",
    "d1_df.head()\n"
   ]
  },
  {
   "cell_type": "markdown",
   "id": "6418c1db",
   "metadata": {},
   "source": [
    "## Load domain 2 data"
   ]
  },
  {
   "cell_type": "code",
   "execution_count": 9,
   "id": "59f62069",
   "metadata": {},
   "outputs": [
    {
     "name": "stdout",
     "output_type": "stream",
     "text": [
      "domain 2 shappe: (5000, 3)\n"
     ]
    },
    {
     "data": {
      "text/html": [
       "<div>\n",
       "<style scoped>\n",
       "    .dataframe tbody tr th:only-of-type {\n",
       "        vertical-align: middle;\n",
       "    }\n",
       "\n",
       "    .dataframe tbody tr th {\n",
       "        vertical-align: top;\n",
       "    }\n",
       "\n",
       "    .dataframe thead th {\n",
       "        text-align: right;\n",
       "    }\n",
       "</style>\n",
       "<table border=\"1\" class=\"dataframe\">\n",
       "  <thead>\n",
       "    <tr style=\"text-align: right;\">\n",
       "      <th></th>\n",
       "      <th>text</th>\n",
       "      <th>label</th>\n",
       "      <th>id</th>\n",
       "    </tr>\n",
       "  </thead>\n",
       "  <tbody>\n",
       "    <tr>\n",
       "      <th>0</th>\n",
       "      <td>[22, 6065, 76, 119, 13027, 575, 219, 22, 2435,...</td>\n",
       "      <td>0</td>\n",
       "      <td>0</td>\n",
       "    </tr>\n",
       "    <tr>\n",
       "      <th>1</th>\n",
       "      <td>[1275, 1509, 12, 6113, 6287, 327, 411, 1139, 2...</td>\n",
       "      <td>0</td>\n",
       "      <td>1</td>\n",
       "    </tr>\n",
       "    <tr>\n",
       "      <th>2</th>\n",
       "      <td>[575, 2962, 529, 4624, 39, 279, 1012, 277, 76,...</td>\n",
       "      <td>0</td>\n",
       "      <td>2</td>\n",
       "    </tr>\n",
       "    <tr>\n",
       "      <th>3</th>\n",
       "      <td>[12, 6113, 2428, 69, 375, 1025, 2605, 76, 101,...</td>\n",
       "      <td>0</td>\n",
       "      <td>3</td>\n",
       "    </tr>\n",
       "    <tr>\n",
       "      <th>4</th>\n",
       "      <td>[529, 76, 1509, 861, 1, 645, 1, 5013, 237, 3, ...</td>\n",
       "      <td>0</td>\n",
       "      <td>4</td>\n",
       "    </tr>\n",
       "  </tbody>\n",
       "</table>\n",
       "</div>"
      ],
      "text/plain": [
       "                                                text  label  id\n",
       "0  [22, 6065, 76, 119, 13027, 575, 219, 22, 2435,...      0   0\n",
       "1  [1275, 1509, 12, 6113, 6287, 327, 411, 1139, 2...      0   1\n",
       "2  [575, 2962, 529, 4624, 39, 279, 1012, 277, 76,...      0   2\n",
       "3  [12, 6113, 2428, 69, 375, 1025, 2605, 76, 101,...      0   3\n",
       "4  [529, 76, 1509, 861, 1, 645, 1, 5013, 237, 3, ...      0   4"
      ]
     },
     "execution_count": 9,
     "metadata": {},
     "output_type": "execute_result"
    }
   ],
   "source": [
    "# read the json file for domain 2\n",
    "d2_data = []\n",
    "with open('/Users/zigeliang/Desktop/All/Data Science 2025S1/COMP90051/A2/comp-90051-2025-s-1-project-2/domain2_train_data.json', 'r') as f:\n",
    "    for line in f:\n",
    "        d2_data.append(json.loads(line))\n",
    "# convert the data to datareame and show the first 5 records\n",
    "d2_df = pd.DataFrame(d2_data)\n",
    "print(f\"domain 2 shappe: {d2_df.shape}\")\n",
    "d2_df.head()"
   ]
  },
  {
   "cell_type": "markdown",
   "id": "8c165e5c",
   "metadata": {},
   "source": [
    "## Load the test data"
   ]
  },
  {
   "cell_type": "code",
   "execution_count": 10,
   "id": "06e00d1a",
   "metadata": {},
   "outputs": [
    {
     "name": "stdout",
     "output_type": "stream",
     "text": [
      "test data shappe: (4000, 2)\n"
     ]
    },
    {
     "data": {
      "text/html": [
       "<div>\n",
       "<style scoped>\n",
       "    .dataframe tbody tr th:only-of-type {\n",
       "        vertical-align: middle;\n",
       "    }\n",
       "\n",
       "    .dataframe tbody tr th {\n",
       "        vertical-align: top;\n",
       "    }\n",
       "\n",
       "    .dataframe thead th {\n",
       "        text-align: right;\n",
       "    }\n",
       "</style>\n",
       "<table border=\"1\" class=\"dataframe\">\n",
       "  <thead>\n",
       "    <tr style=\"text-align: right;\">\n",
       "      <th></th>\n",
       "      <th>text</th>\n",
       "      <th>id</th>\n",
       "    </tr>\n",
       "  </thead>\n",
       "  <tbody>\n",
       "    <tr>\n",
       "      <th>0</th>\n",
       "      <td>[9159, 3048, 238, 276, 162, 286, 305, 22, 36, ...</td>\n",
       "      <td>0</td>\n",
       "    </tr>\n",
       "    <tr>\n",
       "      <th>1</th>\n",
       "      <td>[64, 5039, 1275, 6, 0, 871, 139, 270, 327, 237...</td>\n",
       "      <td>1</td>\n",
       "    </tr>\n",
       "    <tr>\n",
       "      <th>2</th>\n",
       "      <td>[327, 618, 76, 650, 121, 274, 1025, 0, 12207, ...</td>\n",
       "      <td>2</td>\n",
       "    </tr>\n",
       "    <tr>\n",
       "      <th>3</th>\n",
       "      <td>[6, 12, 609, 11905, 4, 879, 677, 78, 13352, 60...</td>\n",
       "      <td>3</td>\n",
       "    </tr>\n",
       "    <tr>\n",
       "      <th>4</th>\n",
       "      <td>[1, 5504, 55, 22, 101, 3783, 139, 2664, 4, 1, ...</td>\n",
       "      <td>4</td>\n",
       "    </tr>\n",
       "  </tbody>\n",
       "</table>\n",
       "</div>"
      ],
      "text/plain": [
       "                                                text  id\n",
       "0  [9159, 3048, 238, 276, 162, 286, 305, 22, 36, ...   0\n",
       "1  [64, 5039, 1275, 6, 0, 871, 139, 270, 327, 237...   1\n",
       "2  [327, 618, 76, 650, 121, 274, 1025, 0, 12207, ...   2\n",
       "3  [6, 12, 609, 11905, 4, 879, 677, 78, 13352, 60...   3\n",
       "4  [1, 5504, 55, 22, 101, 3783, 139, 2664, 4, 1, ...   4"
      ]
     },
     "execution_count": 10,
     "metadata": {},
     "output_type": "execute_result"
    }
   ],
   "source": [
    "# load test data \n",
    "test_data = []\n",
    "with open('/Users/zigeliang/Desktop/All/Data Science 2025S1/COMP90051/A2/comp-90051-2025-s-1-project-2/test_data.json', 'r') as f:\n",
    "    for line in f:\n",
    "        test_data.append(json.loads(line))\n",
    "# convert the data to datareame and show the first 5 records\n",
    "test_df = pd.DataFrame(test_data)\n",
    "print(f\"test data shappe: {test_df.shape}\")\n",
    "test_df.head()"
   ]
  },
  {
   "cell_type": "markdown",
   "id": "dc882624",
   "metadata": {},
   "source": [
    "## Combine the two domains into one dataframe, and convert the data type"
   ]
  },
  {
   "cell_type": "code",
   "execution_count": 25,
   "id": "0536968f",
   "metadata": {},
   "outputs": [
    {
     "name": "stdout",
     "output_type": "stream",
     "text": [
      "combined data shappe: (6000, 3)\n",
      "label\n",
      "1    5250\n",
      "0     750\n",
      "Name: count, dtype: int64\n",
      "total_X_converted: [[6, 22, 34, 76, 501, 977, 1, 2514, 13623, 76, 31, 2085, 277, 22, 238, 862, 931, 132, 305, 6, 22, 132, 882, 154, 13623, 66, 1, 6320, 34, 76, 501, 66, 1, 13019, 139, 863, 299, 34, 76, 199, 296, 337, 3077, 360, 498, 1338, 65, 734, 1308, 3212, 69, 1263, 13, 104, 132, 487, 31, 3, 98, 313, 66, 1, 2429, 13, 104, 2664, 4113, 101, 305, 334, 13, 4113, 101, 6337, 69, 104, 132, 487, 76, 31, 137], [222, 31, 4108, 104, 132, 361, 39, 2305, 12, 936, 1287, 66, 104, 2272, 123, 194, 1, 1287, 31, 64, 6311, 139, 104, 132, 361, 39, 1896, 861, 22, 1103, 123, 101, 2172, 1407, 375, 299, 354, 280, 92, 517, 280, 6255, 80, 76, 36, 2344, 4, 593, 98, 222, 31, 896, 6526, 69, 104, 46, 119, 3061, 48, 719, 34, 14242, 117, 123, 215, 104, 46, 39, 104, 132, 2284, 222, 31, 831, 1, 2470, 2075, 69, 132, 222], [736, 7194, 113, 12, 366, 2870, 123, 101, 12, 230, 403, 516, 147, 5549, 335, 1, 16988, 15911, 366, 2870, 3695, 4600, 501, 1, 8913, 4137, 139, 314, 296, 4932, 6, 141, 1350, 151, 931, 113, 12, 5833, 8855, 357, 1, 3598, 101, 3695, 13722, 141, 1102, 141, 8913, 141, 16957, 3077, 123, 1342, 1580, 48, 12, 4384, 357, 101, 13, 7860, 152, 50, 1933, 15790, 3526, 1092, 1830, 4, 1578, 3601, 277, 123, 529, 222, 151, 4884, 222, 151, 3152, 4, 41, 770], [48, 1, 2025, 69, 361, 533, 327, 237, 4150, 13, 22, 2128, 1, 724, 139, 1, 1622, 69, 1, 7489, 707, 1070, 22, 82, 2128, 1695, 3792, 6, 1549, 4, 3957, 13, 12, 74, 357, 650, 4386, 139, 12, 555, 1622, 284, 1, 2075, 1289, 1, 1174, 69, 1, 555, 4386, 357, 139, 1, 7489, 707, 1070, 1622, 48, 226, 14156, 243, 9496, 4, 10513, 335, 1828, 10902, 8374, 243, 9053, 4, 12472, 862, 10902, 139, 139, 905, 69, 104, 6350, 3324, 327], [2973, 66, 1, 1493, 260, 2740, 50, 1027, 50, 1, 3289, 69, 5802, 913, 78, 13916, 2354, 284, 3289, 69, 5802, 10135, 1, 741, 39, 13, 314, 1493, 2650, 871, 16227, 39, 3722, 243, 1, 741, 2813, 69, 1350, 4, 34, 48, 5802, 65, 1425, 5942, 1164, 1493, 2650, 237, 64, 12174, 119, 1, 6219, 139, 1, 5340, 2650, 1321, 151, 1, 1029, 4, 158, 243, 681, 4287, 103, 327, 3489, 64, 6902, 6, 1, 12513, 69, 4818, 180, 13]]\n",
      "total_Y_converted: [0, 0, 0, 0, 0]\n"
     ]
    }
   ],
   "source": [
    "# combine domain 1 and 2 \n",
    "combined_df  =pd.concat([d1_df, d2_df], ignore_index=True)\n",
    "print(f\"combined data shappe: {combined_df.shape}\")\n",
    "# show of number of labels that label is 0 and 1\n",
    "print(combined_df['label'].value_counts())\n",
    "\n",
    "# convert the text to a form of list of list that the random forest can accept\n",
    "total_X_converted = combined_df['text'].tolist()\n",
    "total_Y_converted = combined_df['label'].tolist()\n",
    "# show the first 5 records of X\n",
    "print(f\"total_X_converted: {total_X_converted[:5]}\")\n",
    "# show the first 5 records of Y\n",
    "print(f\"total_Y_converted: {total_Y_converted[:5]}\")\n",
    "\n",
    "    "
   ]
  },
  {
   "cell_type": "code",
   "execution_count": null,
   "id": "f4fb8caa",
   "metadata": {},
   "outputs": [],
   "source": []
  }
 ],
 "metadata": {
  "kernelspec": {
   "display_name": "base",
   "language": "python",
   "name": "python3"
  },
  "language_info": {
   "codemirror_mode": {
    "name": "ipython",
    "version": 3
   },
   "file_extension": ".py",
   "mimetype": "text/x-python",
   "name": "python",
   "nbconvert_exporter": "python",
   "pygments_lexer": "ipython3",
   "version": "3.12.7"
  }
 },
 "nbformat": 4,
 "nbformat_minor": 5
}
