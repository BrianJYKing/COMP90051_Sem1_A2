{
 "cells": [
  {
   "cell_type": "code",
   "execution_count": 150,
   "id": "71f57c01",
   "metadata": {},
   "outputs": [],
   "source": [
    "import json\n",
    "import numpy as np\n",
    "import joblib\n",
    "import pandas as pd\n",
    "from sklearn.feature_extraction.text import CountVectorizer\n",
    "from sklearn.model_selection import train_test_split\n",
    "from sklearn.model_selection import RandomizedSearchCV\n",
    "from sklearn.ensemble import RandomForestClassifier \n",
    "from sklearn.metrics import classification_report\n",
    "from sklearn.metrics import accuracy_score\n",
    "from imblearn.over_sampling import SMOTE\n",
    "from sklearn.model_selection import GridSearchCV"
   ]
  },
  {
   "cell_type": "markdown",
   "id": "d69bb237",
   "metadata": {},
   "source": [
    "## Load domain 1 data and split the training and testing sets"
   ]
  },
  {
   "cell_type": "code",
   "execution_count": 151,
   "id": "c4e73b56",
   "metadata": {},
   "outputs": [
    {
     "name": "stdout",
     "output_type": "stream",
     "text": [
      "domain 1 shappe: (1000, 3)\n",
      "domain 1 number of label 0 and 1: 500, 500\n"
     ]
    }
   ],
   "source": [
    "# read the json file for domain 1\n",
    "d1_data = []\n",
    "with open('/Users/zigeliang/Desktop/All/Data Science 2025S1/COMP90051/A2/comp-90051-2025-s-1-project-2/domain1_train_data.json', 'r') as f:\n",
    "    for line in f:\n",
    "        d1_data.append(json.loads(line))\n",
    "# convert the data to datareame and show the first 5 records\n",
    "d1_df = pd.DataFrame(d1_data)\n",
    "print(f\"domain 1 shappe: {d1_df.shape}\")\n",
    "\n",
    "d1_x, d1_y = d1_df['text'], d1_df['label']\n",
    "d1_x_training, d1_x_testing, d1_y_training, d1_y_testing = train_test_split(d1_x, d1_y, test_size=0.2, random_state=24)\n",
    "\n",
    "# show the number of label 0 and 1 overall\n",
    "print(f\"domain 1 number of label 0 and 1: {d1_y.value_counts()[0]}, {d1_y.value_counts()[1]}\")\n"
   ]
  },
  {
   "cell_type": "markdown",
   "id": "6418c1db",
   "metadata": {},
   "source": [
    "## Load domain 2 data and split the training and testing sets"
   ]
  },
  {
   "cell_type": "code",
   "execution_count": 152,
   "id": "59f62069",
   "metadata": {},
   "outputs": [
    {
     "name": "stdout",
     "output_type": "stream",
     "text": [
      "domain 2 shappe: (5000, 3)\n",
      "domain 2 number of label 0 and 1: 250, 4750\n"
     ]
    }
   ],
   "source": [
    "# read the json file for domain 2\n",
    "d2_data = []\n",
    "with open('/Users/zigeliang/Desktop/All/Data Science 2025S1/COMP90051/A2/comp-90051-2025-s-1-project-2/domain2_train_data.json', 'r') as f:\n",
    "    for line in f:\n",
    "        d2_data.append(json.loads(line))\n",
    "# convert the data to datareame and show the first 5 records\n",
    "d2_df = pd.DataFrame(d2_data)\n",
    "print(f\"domain 2 shappe: {d2_df.shape}\")\n",
    "\n",
    "d2_x, d2_y = d2_df['text'], d2_df['label']\n",
    "d2_x_training, d2_x_testing, d2_y_training, d2_y_testing = train_test_split(d2_x, d2_y, test_size=0.2, random_state=24)\n",
    "\n",
    "# show the number of label 0 and 1 overall\n",
    "print(f\"domain 2 number of label 0 and 1: {d2_y.value_counts()[0]}, {d2_y.value_counts()[1]}\")\n"
   ]
  },
  {
   "cell_type": "markdown",
   "id": "8c165e5c",
   "metadata": {},
   "source": [
    "## Load the test data"
   ]
  },
  {
   "cell_type": "code",
   "execution_count": 153,
   "id": "06e00d1a",
   "metadata": {},
   "outputs": [
    {
     "name": "stdout",
     "output_type": "stream",
     "text": [
      "test data shappe: (4000, 2)\n"
     ]
    }
   ],
   "source": [
    "# load test data \n",
    "test_data = []\n",
    "with open('/Users/zigeliang/Desktop/All/Data Science 2025S1/COMP90051/A2/comp-90051-2025-s-1-project-2/test_data.json', 'r') as f:\n",
    "    for line in f:\n",
    "        test_data.append(json.loads(line))\n",
    "# convert the data to datareame and show the first 5 records\n",
    "test_df = pd.DataFrame(test_data)\n",
    "print(f\"test data shappe: {test_df.shape}\")\n",
    "test_df.head()\n",
    "\n",
    "test_texts = []\n",
    "test_ids = []\n",
    "\n",
    "# convert the test data to string\n",
    "for text in test_df['text']:\n",
    "    str_text = str(text)\n",
    "    transfomed_str_text = str_text.replace(\",\", \" \").replace(\"]\", \"\").replace(\"[\", \"\")\n",
    "    test_texts.append(transfomed_str_text)\n",
    "\n",
    "for id in test_df['id']:\n",
    "    test_ids.append(id)\n"
   ]
  },
  {
   "cell_type": "markdown",
   "id": "dc882624",
   "metadata": {},
   "source": [
    "## Vectorise the X (text) of traning and testing sets from domain 1 and 2, as well as the X (text) from test file"
   ]
  },
  {
   "cell_type": "code",
   "execution_count": 154,
   "id": "0536968f",
   "metadata": {},
   "outputs": [],
   "source": [
    "total_x_training = pd.concat([d1_x_training, d2_x_training], ignore_index=True)\n",
    "total_y_training = pd.concat([d1_y_training, d2_y_training], ignore_index=True)\n",
    "\n",
    "#  Apply CountVectorizer\n",
    "vectorizer = CountVectorizer()\n",
    "\n",
    "# Now the total_X_converted is a list of list of int,\\\n",
    "# converted it to as list of string in order to apply the CountVectorizer\n",
    "total_x_training_str = []\n",
    "for text in total_x_training:\n",
    "    text_str = ' '.join(map(str,text))\n",
    "    total_x_training_str.append(text_str)\n",
    "\n",
    "total_x_training_str_vec = vectorizer.fit_transform(total_x_training_str)\n",
    "\n",
    "\n",
    "# vectorize the training data from domain 1  \n",
    "d1_x_training_str = []\n",
    "for text in d1_x_training:\n",
    "    text_str = ' '.join(map(str,text))\n",
    "    d1_x_training_str.append(text_str)\n",
    "\n",
    "d1_x_training_str_vec = vectorizer.transform(d1_x_training_str)\n",
    "\n",
    "\n",
    "# vectorize the training data from domain 2\n",
    "d2_x_training_str = []\n",
    "for text in d2_x_training:\n",
    "    text_str = ' '.join(map(str,text))\n",
    "    d2_x_training_str.append(text_str)\n",
    "\n",
    "d2_x_training_str_vec = vectorizer.transform(d2_x_training_str)\n",
    "\n",
    "\n",
    "# vectorize the testing data from domain 1 \n",
    "d1_x_testing_str = []\n",
    "for text in d1_x_testing:\n",
    "    text_str = ' '.join(map(str,text))\n",
    "    d1_x_testing_str.append(text_str)\n",
    "\n",
    "d1_x_testing_str_vec = vectorizer.transform(d1_x_testing_str)\n",
    "\n",
    "\n",
    "# vectorize the testing data from domain 2\n",
    "d2_x_testing_str = []\n",
    "for text in d2_x_testing:\n",
    "    text_str = ' '.join(map(str,text))\n",
    "    d2_x_testing_str.append(text_str)\n",
    "\n",
    "d2_x_testing_str_vec = vectorizer.transform(d2_x_testing_str)\n",
    "\n",
    "# vectorize the data from test file\n",
    "test_texts_vec = []\n",
    "for text in test_texts:\n",
    "    vec_text = vectorizer.transform([text])\n",
    "    test_texts_vec.append(vec_text)\n",
    "\n",
    "    "
   ]
  },
  {
   "cell_type": "markdown",
   "id": "585f01a6",
   "metadata": {},
   "source": [
    "## Address and solve the class imbalance problem"
   ]
  },
  {
   "cell_type": "code",
   "execution_count": 155,
   "id": "f4fb8caa",
   "metadata": {},
   "outputs": [],
   "source": [
    "# fix the issue of imbalanced data by applying SMOTE to domain 2\n",
    "smote = SMOTE(random_state=24)\n",
    "d2_x_training_smote, d2_y_training_smote = smote.fit_resample(d2_x_training_str_vec, d2_y_training)\n",
    "\n",
    "# create marks as 1 if the data comes domain 1 and 2 if the data comes forom domain 2\n",
    "y_total = [1] * len(d1_x_training) + [2] * len(d2_x_training)\n",
    "x_total = pd.concat([d1_x_training, d2_x_training], ignore_index=True)\n",
    "\n",
    "# fit the vectorizer to x_total before transforming\n",
    "x_total_str = []\n",
    "for text in x_total:\n",
    "    text_str = ' '.join(map(str,text))\n",
    "    x_total_str.append(text_str)\n",
    "    \n",
    "# vectorize the X training data from domain 1 and domain 2\n",
    "x_total_transformed = vectorizer.transform(x_total_str)\n",
    "\n",
    "# fix the issue of imbalanced data after domain\n",
    "smote_domain = SMOTE(random_state=24)\n",
    "x_total_transformed_smote, y_total_smote = smote_domain.fit_resample(x_total_transformed, y_total)\n"
   ]
  },
  {
   "cell_type": "markdown",
   "id": "d36ea4c7",
   "metadata": {},
   "source": [
    "## Paremater tuning for Random Forrest classifier"
   ]
  },
  {
   "cell_type": "code",
   "execution_count": 156,
   "id": "09975449",
   "metadata": {},
   "outputs": [
    {
     "name": "stdout",
     "output_type": "stream",
     "text": [
      "The best fitting parameters for domain 1: {'max_depth': 30, 'min_samples_leaf': 4, 'min_samples_split': 10, 'n_estimators': 150}\n",
      "The best fitting parameters for domain 2: {'max_depth': None, 'min_samples_leaf': 1, 'min_samples_split': 2, 'n_estimators': 100}\n",
      "The best fitting parameters for the domain classifier: {'max_depth': None, 'min_samples_leaf': 1, 'min_samples_split': 2, 'n_estimators': 100}\n"
     ]
    }
   ],
   "source": [
    "# define a paramter grid for RandomizedSearchCV\n",
    "para_grid = {\n",
    "    'n_estimators': [50, 100, 150], # more tree, more generalization capacity\n",
    "    'max_depth': [None, 10, 20, 30], # higher values have more overfitting risk\n",
    "    'min_samples_split': [2, 5, 10], # higher values reduce overfitting risk \n",
    "    'min_samples_leaf': [1, 2, 4], # higher values lead to more generalization capacity\n",
    "}\n",
    "\n",
    "# define the RandomForestClassifier for domain 1 for classifying 1 or 0 in domain 1\n",
    "rf_d1 = RandomForestClassifier(random_state=24)\n",
    "# grid search for domain 1\n",
    "gs_d1 = GridSearchCV(estimator = rf_d1, param_grid = para_grid, cv = 5, n_jobs = -1)\n",
    "gs_d1.fit(d1_x_training_str_vec, d1_y_training)\n",
    "d1_best_params = gs_d1.best_params_\n",
    "print(f\"The best fitting parameters for domain 1: {d1_best_params}\")\n",
    "\n",
    "\n",
    "# define the RandomForestClassifier for classifying 1 or 0 in domain 2\n",
    "rf_d2 = RandomForestClassifier(random_state=24)\n",
    "# grid search for domain 2, the grid search for domain 2 need to be the data after SMOTE\n",
    "gs_d2 = GridSearchCV(estimator = rf_d2, param_grid = para_grid, cv = 5, n_jobs = -1)\n",
    "gs_d2.fit(d2_x_training_smote, d2_y_training_smote)\n",
    "d2_best_params = gs_d2.best_params_\n",
    "print(f\"The best fitting parameters for domain 2: {d2_best_params}\")\n",
    "\n",
    "\n",
    "# define the RandomForestClassifier for classifying domain 1 or domain 2\n",
    "rf_domain = RandomForestClassifier(random_state=24)\n",
    "# grid search for domain classification \n",
    "gs_domain = GridSearchCV(estimator = rf_domain, param_grid = para_grid, cv = 5, n_jobs = -1)\n",
    "domain_best_params = gs_domain.fit(x_total_transformed_smote, y_total_smote)\n",
    "print(f\"The best fitting parameters for the domain classifier: {domain_best_params.best_params_}\")\n"
   ]
  },
  {
   "cell_type": "markdown",
   "id": "bd4c5a8e",
   "metadata": {},
   "source": [
    "## Evaluate the trained model performancde on the testing data"
   ]
  },
  {
   "cell_type": "code",
   "execution_count": 157,
   "id": "4284e132",
   "metadata": {},
   "outputs": [
    {
     "name": "stdout",
     "output_type": "stream",
     "text": [
      "              precision    recall  f1-score   support\n",
      "\n",
      "           0       0.89      0.92      0.91        90\n",
      "           1       0.93      0.91      0.92       110\n",
      "\n",
      "    accuracy                           0.92       200\n",
      "   macro avg       0.91      0.92      0.91       200\n",
      "weighted avg       0.92      0.92      0.92       200\n",
      "\n",
      "              precision    recall  f1-score   support\n",
      "\n",
      "           0       0.91      0.40      0.56        50\n",
      "           1       0.97      1.00      0.98       950\n",
      "\n",
      "    accuracy                           0.97      1000\n",
      "   macro avg       0.94      0.70      0.77      1000\n",
      "weighted avg       0.97      0.97      0.96      1000\n",
      "\n"
     ]
    }
   ],
   "source": [
    "# evaluate the trained model performance for domain 1\n",
    "d1_y_pred = gs_d1.predict(d1_x_testing_str_vec)\n",
    "evaluate_report_d1 = classification_report(d1_y_testing, d1_y_pred)\n",
    "print(evaluate_report_d1)\n",
    "\n",
    "# evaluate the trained model performance for domain 2\n",
    "d2_y_pred = gs_d2.predict(d2_x_testing_str_vec)\n",
    "evaluate_report_d2 = classification_report(d2_y_testing, d2_y_pred)\n",
    "print(evaluate_report_d2)\n"
   ]
  },
  {
   "cell_type": "code",
   "execution_count": 158,
   "id": "90fbafc0",
   "metadata": {},
   "outputs": [],
   "source": [
    "y_final_pred = []\n",
    "for i in test_texts_vec:\n",
    "    # run the domain classifier to distinguish the data from domain 1 or domain 2\n",
    "    preicted_domain =  gs_domain.predict(i)[0]\n",
    "    # data from domain 1\n",
    "    if preicted_domain == 1:\n",
    "        # run the domain1 classifier to dishguish 1 or 0 within domain 1\n",
    "        predicted_label_d1 = gs_d1.predict(i)[0]\n",
    "        y_final_pred.append(predicted_label_d1)\n",
    "    if preicted_domain == 2:\n",
    "        # run the domain2 classifier to dishguish 1 or 0 within domain 2\n",
    "        predicted_label_d2 = gs_d2.predict(i)[0]\n",
    "        y_final_pred.append(predicted_label_d2)\n",
    "\n",
    "\n",
    "# contruct the output file\n",
    "final_output = pd.DataFrame({'id': test_ids, 'label': y_final_pred})\n",
    "# export to csv file\n",
    "final_output.to_csv('/Users/zigeliang/Desktop/All/Data Science 2025S1/COMP90051/A2/comp-90051-2025-s-1-project-2/final_output.csv', index=False)\n",
    "\n",
    "\n",
    "\n",
    "\n",
    "\n",
    "    "
   ]
  },
  {
   "cell_type": "code",
   "execution_count": null,
   "id": "b31f1bcf",
   "metadata": {},
   "outputs": [],
   "source": []
  }
 ],
 "metadata": {
  "kernelspec": {
   "display_name": "base",
   "language": "python",
   "name": "python3"
  },
  "language_info": {
   "codemirror_mode": {
    "name": "ipython",
    "version": 3
   },
   "file_extension": ".py",
   "mimetype": "text/x-python",
   "name": "python",
   "nbconvert_exporter": "python",
   "pygments_lexer": "ipython3",
   "version": "3.12.7"
  }
 },
 "nbformat": 4,
 "nbformat_minor": 5
}
